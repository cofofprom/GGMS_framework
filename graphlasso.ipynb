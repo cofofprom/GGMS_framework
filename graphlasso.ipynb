{
 "cells": [
  {
   "cell_type": "code",
   "execution_count": 4,
   "metadata": {},
   "outputs": [
    {
     "name": "stdout",
     "output_type": "stream",
     "text": [
      "The autoreload extension is already loaded. To reload it, use:\n",
      "  %reload_ext autoreload\n"
     ]
    }
   ],
   "source": [
    "from GraphModels.model import CholPCorrModel\n",
    "\n",
    "from sklearn.covariance import GraphicalLasso\n",
    "from sklearn.model_selection import train_test_split\n",
    "\n",
    "import numpy as np\n",
    "import networkx as nx\n",
    "from tqdm import tqdm\n",
    "import warnings\n",
    "\n",
    "from scipy.optimize import curve_fit\n",
    "\n",
    "from collections import defaultdict\n",
    "\n",
    "import optuna\n",
    "\n",
    "%load_ext autoreload\n",
    "%autoreload 2"
   ]
  },
  {
   "cell_type": "code",
   "execution_count": 6,
   "metadata": {},
   "outputs": [],
   "source": [
    "def f(x, a, b, c):\n",
    "    return a * np.power(x, b) + c\n",
    "\n",
    "params = curve_fit(f, np.arange(0.1, 1, 0.1), [0.94, 0.87, 0.85, 0.77, 0.74, 0.68, 0.64, 0.55, 0.4])[0]"
   ]
  },
  {
   "cell_type": "code",
   "execution_count": 7,
   "metadata": {},
   "outputs": [],
   "source": [
    "def describe(arr):\n",
    "    print('Mean:', np.mean(arr))\n",
    "    print('Std:', np.std(arr))\n",
    "    print('Median:', np.median(arr))"
   ]
  },
  {
   "cell_type": "code",
   "execution_count": 42,
   "metadata": {},
   "outputs": [
    {
     "name": "stderr",
     "output_type": "stream",
     "text": [
      "[I 2023-08-16 23:57:16,568] A new study created in memory with name: no-name-7d7a7585-699c-434e-9669-2e10abdb70aa\n"
     ]
    },
    {
     "name": "stderr",
     "output_type": "stream",
     "text": [
      "[I 2023-08-16 23:57:19,218] Trial 7 finished with value: -32.64404401650417 and parameters: {'alpha': 666.66}. Best is trial 7 with value: -32.64404401650417.\n",
      "[I 2023-08-16 23:57:19,449] Trial 6 finished with value: -33.9761248134111 and parameters: {'alpha': 291.61}. Best is trial 7 with value: -32.64404401650417.\n",
      "[I 2023-08-16 23:57:19,522] Trial 2 finished with value: -32.817902441596814 and parameters: {'alpha': 483.91}. Best is trial 7 with value: -32.64404401650417.\n",
      "[I 2023-08-16 23:57:19,559] Trial 4 finished with value: -32.618709714599134 and parameters: {'alpha': 159.71}. Best is trial 4 with value: -32.618709714599134.\n",
      "[I 2023-08-16 23:57:19,574] Trial 5 finished with value: -32.936852112567834 and parameters: {'alpha': 754.18}. Best is trial 4 with value: -32.618709714599134.\n",
      "[I 2023-08-16 23:57:19,588] Trial 0 finished with value: -32.70462359423813 and parameters: {'alpha': 880.24}. Best is trial 4 with value: -32.618709714599134.\n",
      "[I 2023-08-16 23:57:19,604] Trial 3 finished with value: -32.78573436014669 and parameters: {'alpha': 978.11}. Best is trial 4 with value: -32.618709714599134.\n",
      "[I 2023-08-16 23:57:19,687] Trial 1 finished with value: -31.243752332046007 and parameters: {'alpha': 217.76}. Best is trial 1 with value: -31.243752332046007.\n",
      "[I 2023-08-16 23:57:20,174] Trial 9 finished with value: -32.397820140359364 and parameters: {'alpha': 965.6}. Best is trial 1 with value: -31.243752332046007.\n",
      "[I 2023-08-16 23:57:20,182] Trial 8 finished with value: -32.327021788282025 and parameters: {'alpha': 982.99}. Best is trial 1 with value: -31.243752332046007.\n"
     ]
    }
   ],
   "source": [
    "dim = 20\n",
    "n_samples = 40\n",
    "density = f(0.1, *params)\n",
    "num_models = 20\n",
    "\n",
    "def optimize(trial):\n",
    "    alpha = trial.suggest_float('alpha', 1e-2, 1e3, step=0.01)\n",
    "\n",
    "    val_scores = []\n",
    "    for x in range(num_models):\n",
    "        model = CholPCorrModel(dim, density)\n",
    "        data = model.sample(n_samples)\n",
    "        data_train, data_val = train_test_split(data, test_size=0.2)\n",
    "\n",
    "        slv = GraphicalLasso(alpha, max_iter=1000, assume_centered=True)\n",
    "        slv.fit(data_train)\n",
    "\n",
    "        val_scores.append(slv.score(data_val))\n",
    "\n",
    "    mean, std = np.mean(val_scores), np.std(val_scores)\n",
    "\n",
    "    trial.set_user_attr(\"mean\", mean)\n",
    "    trial.set_user_attr(\"std\", std)\n",
    "\n",
    "    return mean\n",
    "\n",
    "study = optuna.create_study(direction='maximize')\n",
    "study.optimize(optimize, n_trials=10, n_jobs=-1)\n"
   ]
  },
  {
   "cell_type": "code",
   "execution_count": 44,
   "metadata": {},
   "outputs": [
    {
     "data": {
      "text/plain": [
       "({'alpha': 217.76}, {'mean': -31.243752332046007, 'std': 1.6337629753083849})"
      ]
     },
     "execution_count": 44,
     "metadata": {},
     "output_type": "execute_result"
    }
   ],
   "source": [
    "study.best_params, study.best_trial.user_attrs"
   ]
  }
 ],
 "metadata": {
  "kernelspec": {
   "display_name": "Python 3",
   "language": "python",
   "name": "python3"
  },
  "language_info": {
   "codemirror_mode": {
    "name": "ipython",
    "version": 3
   },
   "file_extension": ".py",
   "mimetype": "text/x-python",
   "name": "python",
   "nbconvert_exporter": "python",
   "pygments_lexer": "ipython3",
   "version": "3.10.12"
  },
  "orig_nbformat": 4
 },
 "nbformat": 4,
 "nbformat_minor": 2
}
